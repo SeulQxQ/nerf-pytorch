{
 "cells": [
  {
   "cell_type": "code",
   "execution_count": 1,
   "metadata": {},
   "outputs": [
    {
     "name": "stderr",
     "output_type": "stream",
     "text": [
      "/home/wislab/anaconda3/envs/nerf-pytorch/lib/python3.8/site-packages/tqdm/auto.py:21: TqdmWarning: IProgress not found. Please update jupyter and ipywidgets. See https://ipywidgets.readthedocs.io/en/stable/user_install.html\n",
      "  from .autonotebook import tqdm as notebook_tqdm\n"
     ]
    }
   ],
   "source": [
    "import numpy as np\n",
    "import torch\n",
    "import torch.nn as nn\n",
    "import torch.nn.functional as F\n",
    "import cv2"
   ]
  },
  {
   "cell_type": "code",
   "execution_count": 2,
   "metadata": {},
   "outputs": [],
   "source": [
    "\n",
    "\n",
    "near = 1\n",
    "#↓y →z\n",
    "\n",
    "arr = np.array([[[ 0,  1,  2],\n",
    "        [ 3,  4,  5],\n",
    "        [ 6,  7,  8]],\n",
    " \n",
    "       [[ 9,  10, 11],\n",
    "        [12, 13, 14],\n",
    "        [15, 16, 17]],\n",
    " \n",
    "       [[18, 19, 20],\n",
    "        [21, 22, 23],\n",
    "        [24, 25, 26]]])"
   ]
  },
  {
   "cell_type": "code",
   "execution_count": 3,
   "metadata": {},
   "outputs": [
    {
     "data": {
      "text/plain": [
       "array([[ 2,  5,  8],\n",
       "       [11, 14, 17],\n",
       "       [20, 23, 26]])"
      ]
     },
     "execution_count": 3,
     "metadata": {},
     "output_type": "execute_result"
    }
   ],
   "source": [
    "arr[...,2]"
   ]
  },
  {
   "cell_type": "code",
   "execution_count": 4,
   "metadata": {},
   "outputs": [
    {
     "name": "stderr",
     "output_type": "stream",
     "text": [
      "/tmp/ipykernel_417367/3519430871.py:2: DeprecationWarning: Starting with ImageIO v3 the behavior of this function will switch to that of iio.v3.imread. To keep the current behavior (and make this warning disappear) use `import imageio.v2 as imageio` or call `imageio.v2.imread` directly.\n",
      "  imgs = imageio.imread('data/nerf_synthetic/lego/train/r_0.png')\n"
     ]
    }
   ],
   "source": [
    "import imageio\n",
    "imgs = imageio.imread('data/nerf_synthetic/lego/train/r_0.png')"
   ]
  },
  {
   "cell_type": "code",
   "execution_count": 5,
   "metadata": {},
   "outputs": [
    {
     "data": {
      "text/plain": [
       "(800, 800, 4)"
      ]
     },
     "execution_count": 5,
     "metadata": {},
     "output_type": "execute_result"
    }
   ],
   "source": [
    "imgs.shape"
   ]
  },
  {
   "cell_type": "code",
   "execution_count": 6,
   "metadata": {},
   "outputs": [],
   "source": [
    "imgs = (np.array(imgs) / 255.).astype(np.float32) "
   ]
  },
  {
   "cell_type": "code",
   "execution_count": 7,
   "metadata": {},
   "outputs": [
    {
     "data": {
      "text/plain": [
       "(800, 800, 4)"
      ]
     },
     "execution_count": 7,
     "metadata": {},
     "output_type": "execute_result"
    }
   ],
   "source": [
    "imgs.shape"
   ]
  },
  {
   "cell_type": "code",
   "execution_count": 8,
   "metadata": {},
   "outputs": [
    {
     "data": {
      "text/plain": [
       "(400, 400, 4)"
      ]
     },
     "execution_count": 8,
     "metadata": {},
     "output_type": "execute_result"
    }
   ],
   "source": [
    "W = 400\n",
    "H = 400\n",
    "imgs = cv2.resize(imgs, (W, H), interpolation=cv2.INTER_AREA)\n",
    "imgs.shape"
   ]
  },
  {
   "cell_type": "code",
   "execution_count": 9,
   "metadata": {},
   "outputs": [
    {
     "data": {
      "text/plain": [
       "array([[[0., 0., 0., 0.],\n",
       "        [0., 0., 0., 0.],\n",
       "        [0., 0., 0., 0.],\n",
       "        ...,\n",
       "        [0., 0., 0., 0.],\n",
       "        [0., 0., 0., 0.],\n",
       "        [0., 0., 0., 0.]],\n",
       "\n",
       "       [[0., 0., 0., 0.],\n",
       "        [0., 0., 0., 0.],\n",
       "        [0., 0., 0., 0.],\n",
       "        ...,\n",
       "        [0., 0., 0., 0.],\n",
       "        [0., 0., 0., 0.],\n",
       "        [0., 0., 0., 0.]],\n",
       "\n",
       "       [[0., 0., 0., 0.],\n",
       "        [0., 0., 0., 0.],\n",
       "        [0., 0., 0., 0.],\n",
       "        ...,\n",
       "        [0., 0., 0., 0.],\n",
       "        [0., 0., 0., 0.],\n",
       "        [0., 0., 0., 0.]],\n",
       "\n",
       "       ...,\n",
       "\n",
       "       [[0., 0., 0., 0.],\n",
       "        [0., 0., 0., 0.],\n",
       "        [0., 0., 0., 0.],\n",
       "        ...,\n",
       "        [0., 0., 0., 0.],\n",
       "        [0., 0., 0., 0.],\n",
       "        [0., 0., 0., 0.]],\n",
       "\n",
       "       [[0., 0., 0., 0.],\n",
       "        [0., 0., 0., 0.],\n",
       "        [0., 0., 0., 0.],\n",
       "        ...,\n",
       "        [0., 0., 0., 0.],\n",
       "        [0., 0., 0., 0.],\n",
       "        [0., 0., 0., 0.]],\n",
       "\n",
       "       [[0., 0., 0., 0.],\n",
       "        [0., 0., 0., 0.],\n",
       "        [0., 0., 0., 0.],\n",
       "        ...,\n",
       "        [0., 0., 0., 0.],\n",
       "        [0., 0., 0., 0.],\n",
       "        [0., 0., 0., 0.]]], dtype=float32)"
      ]
     },
     "execution_count": 9,
     "metadata": {},
     "output_type": "execute_result"
    }
   ],
   "source": [
    "imgs"
   ]
  },
  {
   "cell_type": "code",
   "execution_count": 10,
   "metadata": {},
   "outputs": [
    {
     "data": {
      "text/plain": [
       "array([[[1., 1., 1.],\n",
       "        [1., 1., 1.],\n",
       "        [1., 1., 1.],\n",
       "        ...,\n",
       "        [1., 1., 1.],\n",
       "        [1., 1., 1.],\n",
       "        [1., 1., 1.]],\n",
       "\n",
       "       [[1., 1., 1.],\n",
       "        [1., 1., 1.],\n",
       "        [1., 1., 1.],\n",
       "        ...,\n",
       "        [1., 1., 1.],\n",
       "        [1., 1., 1.],\n",
       "        [1., 1., 1.]],\n",
       "\n",
       "       [[1., 1., 1.],\n",
       "        [1., 1., 1.],\n",
       "        [1., 1., 1.],\n",
       "        ...,\n",
       "        [1., 1., 1.],\n",
       "        [1., 1., 1.],\n",
       "        [1., 1., 1.]],\n",
       "\n",
       "       ...,\n",
       "\n",
       "       [[1., 1., 1.],\n",
       "        [1., 1., 1.],\n",
       "        [1., 1., 1.],\n",
       "        ...,\n",
       "        [1., 1., 1.],\n",
       "        [1., 1., 1.],\n",
       "        [1., 1., 1.]],\n",
       "\n",
       "       [[1., 1., 1.],\n",
       "        [1., 1., 1.],\n",
       "        [1., 1., 1.],\n",
       "        ...,\n",
       "        [1., 1., 1.],\n",
       "        [1., 1., 1.],\n",
       "        [1., 1., 1.]],\n",
       "\n",
       "       [[1., 1., 1.],\n",
       "        [1., 1., 1.],\n",
       "        [1., 1., 1.],\n",
       "        ...,\n",
       "        [1., 1., 1.],\n",
       "        [1., 1., 1.],\n",
       "        [1., 1., 1.]]], dtype=float32)"
      ]
     },
     "execution_count": 10,
     "metadata": {},
     "output_type": "execute_result"
    }
   ],
   "source": [
    "images = imgs[...,:3]*imgs[...,-1:] + (1.-imgs[...,-1:])\n",
    "images.shape\n",
    "images "
   ]
  },
  {
   "cell_type": "code",
   "execution_count": 11,
   "metadata": {},
   "outputs": [
    {
     "data": {
      "text/plain": [
       "ModuleList(\n",
       "  (0): Linear(in_features=63, out_features=256, bias=True)\n",
       "  (1): Linear(in_features=256, out_features=256, bias=True)\n",
       "  (2): Linear(in_features=256, out_features=256, bias=True)\n",
       "  (3): Linear(in_features=256, out_features=256, bias=True)\n",
       "  (4): Linear(in_features=256, out_features=256, bias=True)\n",
       "  (5): Linear(in_features=319, out_features=256, bias=True)\n",
       "  (6): Linear(in_features=256, out_features=256, bias=True)\n",
       "  (7): Linear(in_features=256, out_features=256, bias=True)\n",
       ")"
      ]
     },
     "execution_count": 11,
     "metadata": {},
     "output_type": "execute_result"
    }
   ],
   "source": [
    "input_ch = 63\n",
    "skips = [4]\n",
    "D = 8\n",
    "W = 256\n",
    "pts_linears = nn.ModuleList(\n",
    "            [nn.Linear(input_ch, W)] + [nn.Linear(W, W) if i not in skips else nn.Linear(W + input_ch, W) for i in range(D-1)])\n",
    "pts_linears"
   ]
  },
  {
   "cell_type": "code",
   "execution_count": 12,
   "metadata": {},
   "outputs": [
    {
     "data": {
      "text/plain": [
       "ModuleList(\n",
       "  (0): Linear(in_features=283, out_features=128, bias=True)\n",
       ")"
      ]
     },
     "execution_count": 12,
     "metadata": {},
     "output_type": "execute_result"
    }
   ],
   "source": [
    "input_ch_views = 27\n",
    "views_linears = nn.ModuleList([nn.Linear(input_ch_views + W, W//2)])\n",
    "views_linears"
   ]
  },
  {
   "cell_type": "code",
   "execution_count": 13,
   "metadata": {},
   "outputs": [
    {
     "data": {
      "text/plain": [
       "(Linear(in_features=256, out_features=256, bias=True),\n",
       " Linear(in_features=256, out_features=1, bias=True),\n",
       " Linear(in_features=128, out_features=3, bias=True))"
      ]
     },
     "execution_count": 13,
     "metadata": {},
     "output_type": "execute_result"
    }
   ],
   "source": [
    "feature_linear = nn.Linear(W, W) # 额外的特征层 用于计算 alpha\n",
    "alpha_linear = nn.Linear(W, 1)   # alpha 输出层\n",
    "rgb_linear = nn.Linear(W//2, 3)  # RGB 输出层\n",
    "feature_linear, alpha_linear, rgb_linear"
   ]
  },
  {
   "cell_type": "code",
   "execution_count": 14,
   "metadata": {},
   "outputs": [],
   "source": [
    "multires = 10\n",
    "embed_kwargs = {\n",
    "            'include_input' : True,         # 为真，最终的编码结果包含原始坐标\n",
    "            'input_dims' : 3,               # 输入数据的维度 \n",
    "            'max_freq_log2' : multires-1,   \n",
    "            'num_freqs' : multires,         # 位置编码的频率数量，论文中编码公式中的L\n",
    "            'log_sampling' : True,\n",
    "            'periodic_fns' : [torch.sin, torch.cos],\n",
    "}"
   ]
  },
  {
   "cell_type": "code",
   "execution_count": 15,
   "metadata": {},
   "outputs": [
    {
     "data": {
      "text/plain": [
       "([<function __main__.<lambda>(x)>,\n",
       "  <function __main__.<lambda>(x, p_fn=<built-in method sin of type object at 0x7f8bc87485e0>, freq=tensor(1.))>,\n",
       "  <function __main__.<lambda>(x, p_fn=<built-in method cos of type object at 0x7f8bc87485e0>, freq=tensor(1.))>,\n",
       "  <function __main__.<lambda>(x, p_fn=<built-in method sin of type object at 0x7f8bc87485e0>, freq=tensor(2.))>,\n",
       "  <function __main__.<lambda>(x, p_fn=<built-in method cos of type object at 0x7f8bc87485e0>, freq=tensor(2.))>,\n",
       "  <function __main__.<lambda>(x, p_fn=<built-in method sin of type object at 0x7f8bc87485e0>, freq=tensor(4.))>,\n",
       "  <function __main__.<lambda>(x, p_fn=<built-in method cos of type object at 0x7f8bc87485e0>, freq=tensor(4.))>,\n",
       "  <function __main__.<lambda>(x, p_fn=<built-in method sin of type object at 0x7f8bc87485e0>, freq=tensor(8.))>,\n",
       "  <function __main__.<lambda>(x, p_fn=<built-in method cos of type object at 0x7f8bc87485e0>, freq=tensor(8.))>,\n",
       "  <function __main__.<lambda>(x, p_fn=<built-in method sin of type object at 0x7f8bc87485e0>, freq=tensor(16.))>,\n",
       "  <function __main__.<lambda>(x, p_fn=<built-in method cos of type object at 0x7f8bc87485e0>, freq=tensor(16.))>,\n",
       "  <function __main__.<lambda>(x, p_fn=<built-in method sin of type object at 0x7f8bc87485e0>, freq=tensor(32.))>,\n",
       "  <function __main__.<lambda>(x, p_fn=<built-in method cos of type object at 0x7f8bc87485e0>, freq=tensor(32.))>,\n",
       "  <function __main__.<lambda>(x, p_fn=<built-in method sin of type object at 0x7f8bc87485e0>, freq=tensor(64.))>,\n",
       "  <function __main__.<lambda>(x, p_fn=<built-in method cos of type object at 0x7f8bc87485e0>, freq=tensor(64.))>,\n",
       "  <function __main__.<lambda>(x, p_fn=<built-in method sin of type object at 0x7f8bc87485e0>, freq=tensor(128.))>,\n",
       "  <function __main__.<lambda>(x, p_fn=<built-in method cos of type object at 0x7f8bc87485e0>, freq=tensor(128.))>,\n",
       "  <function __main__.<lambda>(x, p_fn=<built-in method sin of type object at 0x7f8bc87485e0>, freq=tensor(256.))>,\n",
       "  <function __main__.<lambda>(x, p_fn=<built-in method cos of type object at 0x7f8bc87485e0>, freq=tensor(256.))>,\n",
       "  <function __main__.<lambda>(x, p_fn=<built-in method sin of type object at 0x7f8bc87485e0>, freq=tensor(512.))>,\n",
       "  <function __main__.<lambda>(x, p_fn=<built-in method cos of type object at 0x7f8bc87485e0>, freq=tensor(512.))>],\n",
       " 63)"
      ]
     },
     "execution_count": 15,
     "metadata": {},
     "output_type": "execute_result"
    }
   ],
   "source": [
    "embed_fns = []                  # 存储编码函数的列表\n",
    "d = embed_kwargs['input_dims']   # 输入数据的维度\n",
    "out_dim = 0                     # 编码后的总维度\n",
    "if embed_kwargs['include_input']:    # 为真，最终的编码结果包含原始坐标\n",
    "    embed_fns.append(lambda x : x)  # 把一个不对数据做出改变的匿名函数添加到列表中\n",
    "    out_dim += d\n",
    "    \n",
    "max_freq = embed_kwargs['max_freq_log2'] # 位置编码的最大频率 L-1 （0-9）\n",
    "N_freqs = embed_kwargs['num_freqs']      # 位置编码的频率数量，论文中编码公式中的L\n",
    "\n",
    "if embed_kwargs['log_sampling']:       # 正弦和余弦函数的频率值 A \n",
    "    freq_bands = 2.**torch.linspace(0., max_freq, steps=N_freqs)    # 指数增长\n",
    "else:\n",
    "    freq_bands = torch.linspace(2.**0., 2.**max_freq, steps=N_freqs)    # 线性增长\n",
    "    \n",
    "'''\n",
    "位置编码公式 [sin, cos]  sin(2^0 * Πx), cos(2^0 * Πx).\n",
    "sin(x * freq), cos(x * freq)\n",
    "x: 坐标(x, y, z), freq: 2^L (1, 2, 4, 8, 16, 32, 64, 128, 256, 512) L -> (0-9)\n",
    "'''\n",
    "for freq in freq_bands:\n",
    "    for p_fn in embed_kwargs['periodic_fns']:\n",
    "        embed_fns.append(lambda x, p_fn=p_fn, freq=freq : p_fn(x * freq))\n",
    "        out_dim += d\n",
    "            \n",
    "embed_fns = embed_fns\n",
    "out_dim = out_dim\n",
    "embed_fns, out_dim"
   ]
  },
  {
   "cell_type": "code",
   "execution_count": 16,
   "metadata": {},
   "outputs": [
    {
     "data": {
      "text/plain": [
       "<function __main__.<lambda>(x)>"
      ]
     },
     "execution_count": 16,
     "metadata": {},
     "output_type": "execute_result"
    }
   ],
   "source": [
    "def embed(inputs):\n",
    "    # 对输入数据进行位置编码，返回编码结果\n",
    "    return torch.cat([fn(inputs) for fn in embed_fns], -1)\n",
    "\n",
    "embed_1 = lambda x : embed(x)\n",
    "embed_1"
   ]
  },
  {
   "cell_type": "code",
   "execution_count": 17,
   "metadata": {},
   "outputs": [
    {
     "data": {
      "text/plain": [
       "torch.Size([160000, 3])"
      ]
     },
     "execution_count": 17,
     "metadata": {},
     "output_type": "execute_result"
    }
   ],
   "source": [
    "inputs = torch.from_numpy(images)\n",
    "inputs_flat = torch.reshape(inputs, [-1, inputs.shape[-1]])\n",
    "inputs_flat.shape"
   ]
  },
  {
   "cell_type": "code",
   "execution_count": 18,
   "metadata": {},
   "outputs": [
    {
     "data": {
      "text/plain": [
       "tensor([[1., 1., 1.],\n",
       "        [1., 1., 1.],\n",
       "        [1., 1., 1.],\n",
       "        ...,\n",
       "        [1., 1., 1.],\n",
       "        [1., 1., 1.],\n",
       "        [1., 1., 1.]])"
      ]
     },
     "execution_count": 18,
     "metadata": {},
     "output_type": "execute_result"
    }
   ],
   "source": [
    "inputs[0]"
   ]
  },
  {
   "cell_type": "code",
   "execution_count": 19,
   "metadata": {},
   "outputs": [
    {
     "data": {
      "text/plain": [
       "tensor([1., 1., 1.])"
      ]
     },
     "execution_count": 19,
     "metadata": {},
     "output_type": "execute_result"
    }
   ],
   "source": [
    "inputs_flat[0]"
   ]
  },
  {
   "cell_type": "code",
   "execution_count": 20,
   "metadata": {},
   "outputs": [
    {
     "data": {
      "text/plain": [
       "torch.Size([160000, 63])"
      ]
     },
     "execution_count": 20,
     "metadata": {},
     "output_type": "execute_result"
    }
   ],
   "source": [
    "embedded = embed_1(inputs_flat)\n",
    "embedded.shape"
   ]
  },
  {
   "cell_type": "code",
   "execution_count": 21,
   "metadata": {},
   "outputs": [
    {
     "data": {
      "text/plain": [
       "tensor([[ 1.0000,  1.0000,  1.0000,  ..., -0.9968, -0.9968, -0.9968],\n",
       "        [ 1.0000,  1.0000,  1.0000,  ..., -0.9968, -0.9968, -0.9968],\n",
       "        [ 1.0000,  1.0000,  1.0000,  ..., -0.9968, -0.9968, -0.9968],\n",
       "        ...,\n",
       "        [ 1.0000,  1.0000,  1.0000,  ..., -0.9968, -0.9968, -0.9968],\n",
       "        [ 1.0000,  1.0000,  1.0000,  ..., -0.9968, -0.9968, -0.9968],\n",
       "        [ 1.0000,  1.0000,  1.0000,  ..., -0.9968, -0.9968, -0.9968]])"
      ]
     },
     "execution_count": 21,
     "metadata": {},
     "output_type": "execute_result"
    }
   ],
   "source": [
    "embedded"
   ]
  },
  {
   "cell_type": "code",
   "execution_count": 22,
   "metadata": {},
   "outputs": [
    {
     "data": {
      "text/plain": [
       "(array([-5.  , -3.75, -2.5 , -1.25,  0.  ]),\n",
       " array([0.  , 1.25, 2.5 , 3.75, 5.  ]))"
      ]
     },
     "execution_count": 22,
     "metadata": {},
     "output_type": "execute_result"
    }
   ],
   "source": [
    "x = np.linspace(-5, 0, 5)\n",
    "y = np.linspace(0, 5, 5)\n",
    "x, y"
   ]
  },
  {
   "cell_type": "code",
   "execution_count": 23,
   "metadata": {},
   "outputs": [
    {
     "data": {
      "text/plain": [
       "array([[-5.  , -3.75, -2.5 , -1.25,  0.  ],\n",
       "       [-5.  , -3.75, -2.5 , -1.25,  0.  ],\n",
       "       [-5.  , -3.75, -2.5 , -1.25,  0.  ],\n",
       "       [-5.  , -3.75, -2.5 , -1.25,  0.  ],\n",
       "       [-5.  , -3.75, -2.5 , -1.25,  0.  ]])"
      ]
     },
     "execution_count": 23,
     "metadata": {},
     "output_type": "execute_result"
    }
   ],
   "source": [
    "X, Y = np.meshgrid(x, y)\n",
    "X"
   ]
  },
  {
   "cell_type": "code",
   "execution_count": 24,
   "metadata": {},
   "outputs": [
    {
     "data": {
      "text/plain": [
       "array([[0.  , 0.  , 0.  , 0.  , 0.  ],\n",
       "       [1.25, 1.25, 1.25, 1.25, 1.25],\n",
       "       [2.5 , 2.5 , 2.5 , 2.5 , 2.5 ],\n",
       "       [3.75, 3.75, 3.75, 3.75, 3.75],\n",
       "       [5.  , 5.  , 5.  , 5.  , 5.  ]])"
      ]
     },
     "execution_count": 24,
     "metadata": {},
     "output_type": "execute_result"
    }
   ],
   "source": [
    "Y"
   ]
  },
  {
   "cell_type": "code",
   "execution_count": 25,
   "metadata": {},
   "outputs": [],
   "source": [
    "i, j = np.meshgrid(np.arange(W, dtype=np.float32), np.arange(H, dtype=np.float32), indexing='xy')"
   ]
  },
  {
   "cell_type": "code",
   "execution_count": 26,
   "metadata": {},
   "outputs": [
    {
     "data": {
      "text/plain": [
       "(array([[  0.,   1.,   2., ..., 253., 254., 255.],\n",
       "        [  0.,   1.,   2., ..., 253., 254., 255.],\n",
       "        [  0.,   1.,   2., ..., 253., 254., 255.],\n",
       "        ...,\n",
       "        [  0.,   1.,   2., ..., 253., 254., 255.],\n",
       "        [  0.,   1.,   2., ..., 253., 254., 255.],\n",
       "        [  0.,   1.,   2., ..., 253., 254., 255.]], dtype=float32),\n",
       " array([[  0.,   0.,   0., ...,   0.,   0.,   0.],\n",
       "        [  1.,   1.,   1., ...,   1.,   1.,   1.],\n",
       "        [  2.,   2.,   2., ...,   2.,   2.,   2.],\n",
       "        ...,\n",
       "        [397., 397., 397., ..., 397., 397., 397.],\n",
       "        [398., 398., 398., ..., 398., 398., 398.],\n",
       "        [399., 399., 399., ..., 399., 399., 399.]], dtype=float32))"
      ]
     },
     "execution_count": 26,
     "metadata": {},
     "output_type": "execute_result"
    }
   ],
   "source": [
    "i, j"
   ]
  },
  {
   "cell_type": "code",
   "execution_count": 27,
   "metadata": {},
   "outputs": [],
   "source": [
    "focal = 1\n",
    "K = np.array([\n",
    "    [focal, 0, 0.5*W],\n",
    "    [0, focal, 0.5*H],\n",
    "    [0, 0, 1]\n",
    "])"
   ]
  },
  {
   "cell_type": "code",
   "execution_count": 28,
   "metadata": {},
   "outputs": [
    {
     "data": {
      "text/plain": [
       "array([[[-128.,  200.,   -1.],\n",
       "        [-127.,  200.,   -1.],\n",
       "        [-126.,  200.,   -1.],\n",
       "        ...,\n",
       "        [ 125.,  200.,   -1.],\n",
       "        [ 126.,  200.,   -1.],\n",
       "        [ 127.,  200.,   -1.]],\n",
       "\n",
       "       [[-128.,  199.,   -1.],\n",
       "        [-127.,  199.,   -1.],\n",
       "        [-126.,  199.,   -1.],\n",
       "        ...,\n",
       "        [ 125.,  199.,   -1.],\n",
       "        [ 126.,  199.,   -1.],\n",
       "        [ 127.,  199.,   -1.]],\n",
       "\n",
       "       [[-128.,  198.,   -1.],\n",
       "        [-127.,  198.,   -1.],\n",
       "        [-126.,  198.,   -1.],\n",
       "        ...,\n",
       "        [ 125.,  198.,   -1.],\n",
       "        [ 126.,  198.,   -1.],\n",
       "        [ 127.,  198.,   -1.]],\n",
       "\n",
       "       ...,\n",
       "\n",
       "       [[-128., -197.,   -1.],\n",
       "        [-127., -197.,   -1.],\n",
       "        [-126., -197.,   -1.],\n",
       "        ...,\n",
       "        [ 125., -197.,   -1.],\n",
       "        [ 126., -197.,   -1.],\n",
       "        [ 127., -197.,   -1.]],\n",
       "\n",
       "       [[-128., -198.,   -1.],\n",
       "        [-127., -198.,   -1.],\n",
       "        [-126., -198.,   -1.],\n",
       "        ...,\n",
       "        [ 125., -198.,   -1.],\n",
       "        [ 126., -198.,   -1.],\n",
       "        [ 127., -198.,   -1.]],\n",
       "\n",
       "       [[-128., -199.,   -1.],\n",
       "        [-127., -199.,   -1.],\n",
       "        [-126., -199.,   -1.],\n",
       "        ...,\n",
       "        [ 125., -199.,   -1.],\n",
       "        [ 126., -199.,   -1.],\n",
       "        [ 127., -199.,   -1.]]], dtype=float32)"
      ]
     },
     "execution_count": 28,
     "metadata": {},
     "output_type": "execute_result"
    }
   ],
   "source": [
    "dirs = np.stack([(i-K[0][2])/K[0][0], -(j-K[1][2])/K[1][1], -np.ones_like(i)], -1)\n",
    "dirs"
   ]
  },
  {
   "cell_type": "code",
   "execution_count": 29,
   "metadata": {},
   "outputs": [
    {
     "data": {
      "text/plain": [
       "(3, 400, 256)"
      ]
     },
     "execution_count": 29,
     "metadata": {},
     "output_type": "execute_result"
    }
   ],
   "source": [
    "dirs = np.stack([(i-K[0][2])/K[0][0], -(j-K[1][2])/K[1][1], -np.ones_like(i)])\n",
    "dirs.shape"
   ]
  },
  {
   "cell_type": "code",
   "execution_count": 30,
   "metadata": {},
   "outputs": [
    {
     "data": {
      "text/plain": [
       "[array([[-128., -127., -126., ...,  125.,  126.,  127.],\n",
       "        [-128., -127., -126., ...,  125.,  126.,  127.],\n",
       "        [-128., -127., -126., ...,  125.,  126.,  127.],\n",
       "        ...,\n",
       "        [-128., -127., -126., ...,  125.,  126.,  127.],\n",
       "        [-128., -127., -126., ...,  125.,  126.,  127.],\n",
       "        [-128., -127., -126., ...,  125.,  126.,  127.]], dtype=float32),\n",
       " array([[ 200.,  200.,  200., ...,  200.,  200.,  200.],\n",
       "        [ 199.,  199.,  199., ...,  199.,  199.,  199.],\n",
       "        [ 198.,  198.,  198., ...,  198.,  198.,  198.],\n",
       "        ...,\n",
       "        [-197., -197., -197., ..., -197., -197., -197.],\n",
       "        [-198., -198., -198., ..., -198., -198., -198.],\n",
       "        [-199., -199., -199., ..., -199., -199., -199.]], dtype=float32),\n",
       " array([[-1., -1., -1., ..., -1., -1., -1.],\n",
       "        [-1., -1., -1., ..., -1., -1., -1.],\n",
       "        [-1., -1., -1., ..., -1., -1., -1.],\n",
       "        ...,\n",
       "        [-1., -1., -1., ..., -1., -1., -1.],\n",
       "        [-1., -1., -1., ..., -1., -1., -1.],\n",
       "        [-1., -1., -1., ..., -1., -1., -1.]], dtype=float32)]"
      ]
     },
     "execution_count": 30,
     "metadata": {},
     "output_type": "execute_result"
    }
   ],
   "source": [
    "[(i-K[0][2])/K[0][0], -(j-K[1][2])/K[1][1], -np.ones_like(i)]"
   ]
  },
  {
   "cell_type": "code",
   "execution_count": 31,
   "metadata": {},
   "outputs": [
    {
     "data": {
      "text/plain": [
       "array([[[ 1,  7],\n",
       "        [ 2,  8],\n",
       "        [ 3,  9]],\n",
       "\n",
       "       [[ 4, 10],\n",
       "        [ 5, 11],\n",
       "        [ 6, 12]]])"
      ]
     },
     "execution_count": 31,
     "metadata": {},
     "output_type": "execute_result"
    }
   ],
   "source": [
    "import numpy as np\n",
    "\n",
    "a = np.array([[1, 2, 3], \n",
    "              [4, 5, 6]])\n",
    "b = np.array([[7, 8, 9],\n",
    "              [10, 11, 12]])\n",
    "c = np.stack([a, b], 2)\n",
    "\n",
    "c\n"
   ]
  }
 ],
 "metadata": {
  "kernelspec": {
   "display_name": "nerf-pytorch",
   "language": "python",
   "name": "python3"
  },
  "language_info": {
   "codemirror_mode": {
    "name": "ipython",
    "version": 3
   },
   "file_extension": ".py",
   "mimetype": "text/x-python",
   "name": "python",
   "nbconvert_exporter": "python",
   "pygments_lexer": "ipython3",
   "version": "3.8.16"
  },
  "orig_nbformat": 4
 },
 "nbformat": 4,
 "nbformat_minor": 2
}
